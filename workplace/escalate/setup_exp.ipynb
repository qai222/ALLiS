{
 "cells": [
  {
   "cell_type": "code",
   "execution_count": 2,
   "metadata": {
    "collapsed": true
   },
   "outputs": [],
   "source": [
    "import escalateclient\n",
    "import importlib\n",
    "\n",
    "importlib.reload(escalateclient)\n",
    "server_url = 'http://localhost:8000'\n",
    "username = \"qai1\"\n",
    "password = \"eBYvN4ELjrLXMDt\"\n",
    "client = escalateclient.ESCALATEClient(server_url, username, password)"
   ]
  },
  {
   "cell_type": "code",
   "execution_count": 4,
   "outputs": [
    {
     "name": "stdout",
     "output_type": "stream",
     "text": [
      "{'description': 'Reagent Template 0 - Solvent'}\n",
      "GET: OK. Found 0 results\n",
      "POST: OK, returning new resource dict\n",
      "{'description': 'Reagent Template 1 - Ligand Solution'}\n",
      "GET: OK. Found 0 results\n",
      "POST: OK, returning new resource dict\n",
      "{'description': 'Reagent Template 2 - Nanocrystal Dispersion'}\n",
      "GET: OK. Found 0 results\n",
      "POST: OK, returning new resource dict\n"
     ]
    }
   ],
   "source": [
    "# to define an experiment template we need:\n",
    "# 1. reagent template RT\n",
    "reagent_templates = []\n",
    "for description in [\"Reagent Template 0 - Solvent\", \"Reagent Template 1 - Ligand Solution\", \"Reagent Template 2 - Nanocrystal Dispersion\"]:\n",
    "    reagent_template = client.get_or_create(endpoint=\"reagent-template\", data={\"description\": description, })\n",
    "    assert len(reagent_template) == 1\n",
    "    reagent_templates.append(reagent_template[0])\n",
    "reagent_template_0, reagent_template_1, reagent_template_2 = reagent_templates\n"
   ],
   "metadata": {
    "collapsed": false,
    "pycharm": {
     "name": "#%%\n"
    }
   }
  },
  {
   "cell_type": "code",
   "execution_count": null,
   "outputs": [],
   "source": [
    "\n",
    "\n",
    "\n",
    "# 2. reagent material template RMT\n",
    "# add reagent material template (reagent template + material type)\n",
    "reagent_material_templates = []\n",
    "for reagent_template, material_type in zip(reagent_templates, [mt_solvent, mt_ligand, mt_nanocrystal]):\n",
    "    reagent_material_template = client.get_or_create(\n",
    "        endpoint='reagent-material-template',\n",
    "        data={\n",
    "            \"reagent_template\": reagent_template[\"url\"],\n",
    "            \"material_type\": material_type[\"url\"],\n",
    "            \"description\": reagent_template[\"description\"] + \" -- \" + material_type[\"description\"]\n",
    "        }\n",
    "    )\n",
    "    reagent_material_templates.append(reagent_material_template)\n"
   ],
   "metadata": {
    "collapsed": false,
    "pycharm": {
     "name": "#%%\n"
    }
   }
  }
 ],
 "metadata": {
  "kernelspec": {
   "display_name": "Python 3",
   "language": "python",
   "name": "python3"
  },
  "language_info": {
   "codemirror_mode": {
    "name": "ipython",
    "version": 2
   },
   "file_extension": ".py",
   "mimetype": "text/x-python",
   "name": "python",
   "nbconvert_exporter": "python",
   "pygments_lexer": "ipython2",
   "version": "2.7.6"
  }
 },
 "nbformat": 4,
 "nbformat_minor": 0
}